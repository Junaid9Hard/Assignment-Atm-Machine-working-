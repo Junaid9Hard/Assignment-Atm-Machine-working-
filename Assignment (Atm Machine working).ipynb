{
 "cells": [
  {
   "cell_type": "code",
   "execution_count": null,
   "metadata": {},
   "outputs": [
    {
     "name": "stdout",
     "output_type": "stream",
     "text": [
      "\t\t.... Welcome to Bank ....\n",
      "\t\t .... Assalam o alikum ....\n",
      "---------------------------------------------------------------------------------------\n",
      "plzz enter your Secret number\n",
      "122222\n",
      "enter correct pin number\n"
     ]
    }
   ],
   "source": [
    "\n",
    "print(\"\\t\\t.... Welcome to Bank ....\\n\\t\\t .... Assalam o alikum ....\")\n",
    "print(\"---------------------------------------------------------------------------------------\")\n",
    "print(\"plzz enter your Secret number\")\n",
    "enter_your_secret_number = int(input())\n",
    "atm_pin_no = 1234\n",
    "amount1=0\n",
    "balance = 50000\n",
    "if enter_your_secret_number == (atm_pin_no):\n",
    "    statement = True  \n",
    "else:\n",
    "    statement = False\n",
    "    print(\"enter correct pin number\")\n",
    "    exit = ()\n",
    "    \n",
    "if statement == True:\n",
    "    print(\"\\t\\t*****What You Want To Do*****\")\n",
    "    \n",
    "    print(\"----PLZZ SELECT YOUR DESIRED OPTION\")\n",
    "    \n",
    "    print(\"*Deposit_Amount press 'D' \\n*Withdraw Amount press 'W' \\n*balance Check press 'B' \\n*Mind Change Get me out of here press 'M'\") \n",
    "options = ('D' , 'W' , 'B' , 'M')\n",
    "options = input(\"enter your option\")\n",
    "if options == \"D\":\n",
    "    amount = int(input(\"How much Debit you want to deposit\"))\n",
    "    amount = amount + balance\n",
    "    print(\"---------------------------------------------------------------------------------------\")\n",
    "    print(\"\\tCONGRATULATION you Balance successfully Deposited in your ACCOUNTR\")\n",
    "    print(\"\\tYOUR NEW BALANCE IS:                                    RS\" ,amount)\n",
    "    print(\"\\t\\t\\t\\t\\t THANK YOU FOR USING\\n\\t\\t\\t\\t\\t\\t OUR SERVICE\")\n",
    "    print(\"---------------------------------------------------------------------------------------\")   \n",
    "elif options == \"W\":\n",
    "     amount2 = int(input(\"How much Debit you want to withdraw RS\"))\n",
    "if amount1>balance:\n",
    "    amount2 = amount1 - balance \n",
    "    print(\"---------------------------------------------------------------------------------------\")\n",
    "    print(\"\\tCONGRATULATION your have sucessfully widthdraw\")\n",
    "    print(\"\\tYOUR WITHDRAW AMUNT IS RS\" ,amount2)\n",
    "    print(\"YOUR BALANCE IS                                      RS\" ,amount1)\n",
    "    print(\"\\t\\t\\t\\t\\t THANK YOU FOR USING\\n\\t\\t\\t\\t\\t\\t OUR SERVICE\")\n",
    "    print(\"---------------------------------------------------------------------------------------\")\n",
    "else:\n",
    "    print(\"you do not have sufficient amount\")\n",
    "    exit()\n",
    "if options == \"B\":\n",
    "    print(\"---------------------------------------------------------------------------------------\")\n",
    "    print(\"YOUR CURRENT BALANCE IN ACCOUNT IS:                       Rs\" ,balance)\n",
    "    print(\"---------------------------------------------------------------------------------------\")\n",
    "if options == \"M\":\n",
    "    print(\"\\tThank You For using Our Service\\n\\t we hope to see you again\")\n",
    "\n"
   ]
  },
  {
   "cell_type": "code",
   "execution_count": null,
   "metadata": {},
   "outputs": [],
   "source": []
  }
 ],
 "metadata": {
  "kernelspec": {
   "display_name": "Python 3",
   "language": "python",
   "name": "python3"
  },
  "language_info": {
   "codemirror_mode": {
    "name": "ipython",
    "version": 3
   },
   "file_extension": ".py",
   "mimetype": "text/x-python",
   "name": "python",
   "nbconvert_exporter": "python",
   "pygments_lexer": "ipython3",
   "version": "3.7.1"
  }
 },
 "nbformat": 4,
 "nbformat_minor": 2
}
